{
 "cells": [
  {
   "cell_type": "code",
   "execution_count": 1,
   "id": "35685a58-21fc-49c0-bd76-2fed0046295f",
   "metadata": {},
   "outputs": [],
   "source": [
    "# Importing libraries\n",
    "import pandas as pd\n",
    "import numpy as np\n",
    "import seaborn as sns\n",
    "import matplotlib.pyplot as plt"
   ]
  },
  {
   "cell_type": "code",
   "execution_count": 2,
   "id": "32b54576-2b45-4d69-a6d1-45bbc3847b45",
   "metadata": {},
   "outputs": [
    {
     "data": {
      "text/html": [
       "<div>\n",
       "<style scoped>\n",
       "    .dataframe tbody tr th:only-of-type {\n",
       "        vertical-align: middle;\n",
       "    }\n",
       "\n",
       "    .dataframe tbody tr th {\n",
       "        vertical-align: top;\n",
       "    }\n",
       "\n",
       "    .dataframe thead th {\n",
       "        text-align: right;\n",
       "    }\n",
       "</style>\n",
       "<table border=\"1\" class=\"dataframe\">\n",
       "  <thead>\n",
       "    <tr style=\"text-align: right;\">\n",
       "      <th></th>\n",
       "      <th>Name Hussein Hakeem Address Number 22 Fioye Crescent Surulere Lagos Age 17 Gender Male</th>\n",
       "    </tr>\n",
       "  </thead>\n",
       "  <tbody>\n",
       "    <tr>\n",
       "      <th>0</th>\n",
       "      <td>Name Arojoye Samuel Address 11 Omolade Close O...</td>\n",
       "    </tr>\n",
       "    <tr>\n",
       "      <th>1</th>\n",
       "      <td>Name Alex Ezurum Address 1 Adamu Lane, Abuja A...</td>\n",
       "    </tr>\n",
       "    <tr>\n",
       "      <th>2</th>\n",
       "      <td>Name Susan Nwaimo Address Number 58 Yaba Stree...</td>\n",
       "    </tr>\n",
       "    <tr>\n",
       "      <th>3</th>\n",
       "      <td>Name Ajao Opeyemi Address No12 Olubunmi Street...</td>\n",
       "    </tr>\n",
       "    <tr>\n",
       "      <th>4</th>\n",
       "      <td>Name Banjoko Adebusola Address 34 Ngige Street...</td>\n",
       "    </tr>\n",
       "    <tr>\n",
       "      <th>5</th>\n",
       "      <td>Name Muhammed Olabisi Address 13, ICAN road, E...</td>\n",
       "    </tr>\n",
       "    <tr>\n",
       "      <th>6</th>\n",
       "      <td>Name Oluwagbemi Mojisola Address ACCA Lane, On...</td>\n",
       "    </tr>\n",
       "  </tbody>\n",
       "</table>\n",
       "</div>"
      ],
      "text/plain": [
       "  Name Hussein Hakeem Address Number 22 Fioye Crescent Surulere Lagos Age 17 Gender Male\n",
       "0  Name Arojoye Samuel Address 11 Omolade Close O...                                    \n",
       "1  Name Alex Ezurum Address 1 Adamu Lane, Abuja A...                                    \n",
       "2  Name Susan Nwaimo Address Number 58 Yaba Stree...                                    \n",
       "3  Name Ajao Opeyemi Address No12 Olubunmi Street...                                    \n",
       "4  Name Banjoko Adebusola Address 34 Ngige Street...                                    \n",
       "5  Name Muhammed Olabisi Address 13, ICAN road, E...                                    \n",
       "6  Name Oluwagbemi Mojisola Address ACCA Lane, On...                                    "
      ]
     },
     "execution_count": 2,
     "metadata": {},
     "output_type": "execute_result"
    }
   ],
   "source": [
    "# Loading the Data:\n",
    "Customer_details= pd.read_excel('5.-Jumbled-up-Customers-Details.xlsx')\n",
    "Customer_details"
   ]
  },
  {
   "cell_type": "code",
   "execution_count": 3,
   "id": "ca7e7fc4-26a3-4812-8e7d-fe67c87fc11b",
   "metadata": {},
   "outputs": [],
   "source": [
    "# Define a function to split the jumbled data\n",
    "def split_customer_details(row):\n",
    "    data = row[0]  # Get the string from the single column\n",
    "    parts = data.split('Address')\n",
    "    name_part = parts[0].split('Name')[1].strip()\n",
    "    address_part = 'Address' + parts[1]\n",
    "    address_parts = address_part.split('Age')\n",
    "    address = address_parts[0].replace('Address', '').strip()\n",
    "    age_gender_part = 'Age' + address_parts[1]\n",
    "    age_gender_parts = age_gender_part.split('Gender')\n",
    "    age = age_gender_parts[0].replace('Age', '').strip()\n",
    "    gender = age_gender_parts[1].replace('Gender', '').strip()\n",
    "    \n",
    "    return pd.Series([name_part, address, age, gender])"
   ]
  },
  {
   "cell_type": "code",
   "execution_count": 4,
   "id": "01324122-c705-40dd-a98c-198597c22a31",
   "metadata": {},
   "outputs": [],
   "source": [
    "# Define a function to extract state from address\n",
    "def extract_state(address):\n",
    "    # List of Nigerian states\n",
    "    nigerian_states = [\n",
    "        'Abia', 'Adamawa', 'Akwa Ibom', 'Anambra', 'Bauchi', 'Bayelsa', 'Benue', 'Borno', 'Cross River',\n",
    "        'Delta', 'Ebonyi', 'Edo', 'Ekiti', 'Enugu', 'FCT', 'Gombe', 'Imo', 'Jigawa', 'Kaduna', 'Kano', \n",
    "        'Katsina', 'Kebbi', 'Kogi', 'Kwara', 'Lagos', 'Nasarawa', 'Niger', 'Ogun', 'Ondo', 'Osun', 'Oyo', \n",
    "        'Plateau', 'Rivers', 'Sokoto', 'Taraba', 'Yobe', 'Zamfara'\n",
    "    ]\n",
    "\n",
    "    \n",
    "    # Dictionary of cities and their corresponding states\n",
    "    city_states = {\n",
    "        'Onitsha': 'Anambra',\n",
    "        'Abeokuta': 'Ogun'\n",
    "        # Add more city-state mappings as needed\n",
    "    }\n",
    "    \n",
    "    # Add FCT (Federal Capital Territory) for Abuja\n",
    "    if 'Abuja' in address:\n",
    "        return 'FCT'\n",
    "    \n",
    "    # Search for Nigerian state names in the address\n",
    "    for state in nigerian_states:\n",
    "        if state in address:\n",
    "            return state\n",
    "    \n",
    "    # Search for city names and map them to their corresponding states\n",
    "    for city, state in city_states.items():\n",
    "        if city in address:\n",
    "            return state\n",
    "    \n",
    "    # If no state is found, return 'Unknown'\n",
    "    return 'Unknown'"
   ]
  },
  {
   "cell_type": "code",
   "execution_count": 5,
   "id": "bd0196ee-7306-4743-ad17-a7d5beb7121c",
   "metadata": {},
   "outputs": [
    {
     "name": "stderr",
     "output_type": "stream",
     "text": [
      "C:\\Users\\Henry Morgan\\AppData\\Local\\Temp\\ipykernel_5456\\2843216773.py:3: FutureWarning: Series.__getitem__ treating keys as positions is deprecated. In a future version, integer keys will always be treated as labels (consistent with DataFrame behavior). To access a value by position, use `ser.iloc[pos]`\n",
      "  data = row[0]  # Get the string from the single column\n"
     ]
    }
   ],
   "source": [
    "# Apply the function to each row\n",
    "cleaned_data = Customer_details.apply(split_customer_details, axis=1)"
   ]
  },
  {
   "cell_type": "code",
   "execution_count": 6,
   "id": "b89f2904-ecb4-4e10-a18d-c2549e23203f",
   "metadata": {},
   "outputs": [],
   "source": [
    "# Rename the columns\n",
    "cleaned_data.columns = ['Name', 'Address', 'Age', 'Gender']"
   ]
  },
  {
   "cell_type": "code",
   "execution_count": 7,
   "id": "8e82b480-8ed7-4957-b90f-2ef511d234e4",
   "metadata": {},
   "outputs": [],
   "source": [
    "# Extract state from each address\n",
    "cleaned_data['State'] = cleaned_data['Address'].apply(extract_state)"
   ]
  },
  {
   "cell_type": "code",
   "execution_count": 8,
   "id": "3cc5b808-cfa7-4b13-9338-8a365b4e22b9",
   "metadata": {},
   "outputs": [
    {
     "data": {
      "text/html": [
       "<div>\n",
       "<style scoped>\n",
       "    .dataframe tbody tr th:only-of-type {\n",
       "        vertical-align: middle;\n",
       "    }\n",
       "\n",
       "    .dataframe tbody tr th {\n",
       "        vertical-align: top;\n",
       "    }\n",
       "\n",
       "    .dataframe thead th {\n",
       "        text-align: right;\n",
       "    }\n",
       "</style>\n",
       "<table border=\"1\" class=\"dataframe\">\n",
       "  <thead>\n",
       "    <tr style=\"text-align: right;\">\n",
       "      <th></th>\n",
       "      <th>Name</th>\n",
       "      <th>Address</th>\n",
       "      <th>Age</th>\n",
       "      <th>Gender</th>\n",
       "      <th>State</th>\n",
       "    </tr>\n",
       "  </thead>\n",
       "  <tbody>\n",
       "    <tr>\n",
       "      <th>0</th>\n",
       "      <td>Arojoye Samuel</td>\n",
       "      <td>11 Omolade Close Omole Estate Lagos</td>\n",
       "      <td>16</td>\n",
       "      <td>Male</td>\n",
       "      <td>Lagos</td>\n",
       "    </tr>\n",
       "    <tr>\n",
       "      <th>1</th>\n",
       "      <td>Alex Ezurum</td>\n",
       "      <td>1 Adamu Lane, Abuja</td>\n",
       "      <td>14</td>\n",
       "      <td>Male</td>\n",
       "      <td>FCT</td>\n",
       "    </tr>\n",
       "    <tr>\n",
       "      <th>2</th>\n",
       "      <td>Susan Nwaimo</td>\n",
       "      <td>Number 58 Yaba Street, Kaduna State</td>\n",
       "      <td>16</td>\n",
       "      <td>Female</td>\n",
       "      <td>Kaduna</td>\n",
       "    </tr>\n",
       "    <tr>\n",
       "      <th>3</th>\n",
       "      <td>Ajao Opeyemi</td>\n",
       "      <td>No12 Olubunmi Street, Abeokuta</td>\n",
       "      <td>18</td>\n",
       "      <td>Female</td>\n",
       "      <td>Ogun</td>\n",
       "    </tr>\n",
       "    <tr>\n",
       "      <th>4</th>\n",
       "      <td>Banjoko Adebusola</td>\n",
       "      <td>34 Ngige Street, Ugheli, Delta</td>\n",
       "      <td>14</td>\n",
       "      <td>Female</td>\n",
       "      <td>Delta</td>\n",
       "    </tr>\n",
       "    <tr>\n",
       "      <th>5</th>\n",
       "      <td>Muhammed Olabisi</td>\n",
       "      <td>13, ICAN road, Enugu</td>\n",
       "      <td>12</td>\n",
       "      <td>Female</td>\n",
       "      <td>Enugu</td>\n",
       "    </tr>\n",
       "    <tr>\n",
       "      <th>6</th>\n",
       "      <td>Oluwagbemi Mojisola</td>\n",
       "      <td>ACCA Lane, Onitsha</td>\n",
       "      <td>13</td>\n",
       "      <td>Female</td>\n",
       "      <td>Anambra</td>\n",
       "    </tr>\n",
       "  </tbody>\n",
       "</table>\n",
       "</div>"
      ],
      "text/plain": [
       "                  Name                              Address Age  Gender  \\\n",
       "0       Arojoye Samuel  11 Omolade Close Omole Estate Lagos  16    Male   \n",
       "1          Alex Ezurum                  1 Adamu Lane, Abuja  14    Male   \n",
       "2         Susan Nwaimo  Number 58 Yaba Street, Kaduna State  16  Female   \n",
       "3         Ajao Opeyemi       No12 Olubunmi Street, Abeokuta  18  Female   \n",
       "4    Banjoko Adebusola       34 Ngige Street, Ugheli, Delta  14  Female   \n",
       "5     Muhammed Olabisi                 13, ICAN road, Enugu  12  Female   \n",
       "6  Oluwagbemi Mojisola                   ACCA Lane, Onitsha  13  Female   \n",
       "\n",
       "     State  \n",
       "0    Lagos  \n",
       "1      FCT  \n",
       "2   Kaduna  \n",
       "3     Ogun  \n",
       "4    Delta  \n",
       "5    Enugu  \n",
       "6  Anambra  "
      ]
     },
     "execution_count": 8,
     "metadata": {},
     "output_type": "execute_result"
    }
   ],
   "source": [
    "# Display the cleaned data\n",
    "cleaned_data"
   ]
  },
  {
   "cell_type": "code",
   "execution_count": 9,
   "id": "8a7d344c-8f69-4b8f-9e7a-1338860fda50",
   "metadata": {},
   "outputs": [
    {
     "name": "stderr",
     "output_type": "stream",
     "text": [
      "C:\\Users\\Henry Morgan\\anaconda3\\Lib\\site-packages\\seaborn\\_oldcore.py:1119: FutureWarning: use_inf_as_na option is deprecated and will be removed in a future version. Convert inf values to NaN before operating instead.\n",
      "  with pd.option_context('mode.use_inf_as_na', True):\n"
     ]
    },
    {
     "data": {
      "image/png": "[encoded data removed]",
      "text/plain": [
       "<Figure size 1000x600 with 1 Axes>"
      ]
     },
     "metadata": {},
     "output_type": "display_data"
    }
   ],
   "source": [
    "# Age Distribution\n",
    "plt.figure(figsize=(10, 6))\n",
    "sns.histplot(cleaned_data['Age'], bins=10, kde=True)\n",
    "plt.title('Age Distribution of Customers')\n",
    "plt.xlabel('Age')\n",
    "plt.ylabel('Frequency')\n",
    "plt.show()"
   ]
  },
  {
   "cell_type": "code",
   "execution_count": 10,
   "id": "12afc21f-be5f-4b61-9a1e-7e7ae6dc48be",
   "metadata": {},
   "outputs": [
    {
     "data": {
      "image/png": "[encoded data removed]",
      "text/plain": [
       "<Figure size 800x600 with 1 Axes>"
      ]
     },
     "metadata": {},
     "output_type": "display_data"
    }
   ],
   "source": [
    "# Gender Distribution\n",
    "gender_counts = cleaned_data['Gender'].value_counts()\n",
    "plt.figure(figsize=(8, 6))\n",
    "gender_counts.plot(kind='bar')\n",
    "plt.title('Gender Distribution of Customers')\n",
    "plt.xlabel('Gender')\n",
    "plt.ylabel('Count')\n",
    "plt.show()"
   ]
  },
  {
   "cell_type": "code",
   "execution_count": 11,
   "id": "8f499809-3319-436a-a58c-54fc9d73c74d",
   "metadata": {},
   "outputs": [
    {
     "data": {
      "image/png": "[encoded data removed]",
      "text/plain": [
       "<Figure size 1200x600 with 1 Axes>"
      ]
     },
     "metadata": {},
     "output_type": "display_data"
    }
   ],
   "source": [
    "# State Distribution\n",
    "state_counts = cleaned_data['State'].value_counts()\n",
    "plt.figure(figsize=(12, 6))\n",
    "state_counts.plot(kind='bar')\n",
    "plt.title('State Distribution of Customers')\n",
    "plt.xlabel('State')\n",
    "plt.ylabel('Count')\n",
    "plt.show()"
   ]
  },
  {
   "cell_type": "code",
   "execution_count": 12,
   "id": "c137df09-a6ae-4424-9132-b14b931c2d14",
   "metadata": {},
   "outputs": [
    {
     "name": "stdout",
     "output_type": "stream",
     "text": [
      "Missing Values:\n",
      "Name       0\n",
      "Address    0\n",
      "Age        0\n",
      "Gender     0\n",
      "State      0\n",
      "dtype: int64\n"
     ]
    }
   ],
   "source": [
    "# Check for missing values\n",
    "missing_values = cleaned_data.isnull().sum()\n",
    "print(\"Missing Values:\")\n",
    "print(missing_values)"
   ]
  },
  {
   "cell_type": "code",
   "execution_count": 13,
   "id": "33598275-9b11-4323-a309-88d7275b1aec",
   "metadata": {},
   "outputs": [
    {
     "name": "stdout",
     "output_type": "stream",
     "text": [
      "\n",
      "Duplicate Rows:\n",
      "0\n"
     ]
    }
   ],
   "source": [
    "# Check for duplicates\n",
    "duplicate_rows = cleaned_data.duplicated().sum()\n",
    "print(\"\\nDuplicate Rows:\")\n",
    "print(duplicate_rows)"
   ]
  },
  {
   "cell_type": "code",
   "execution_count": 14,
   "id": "7b6613e7-e839-498b-918f-6c4ef052cea9",
   "metadata": {},
   "outputs": [
    {
     "name": "stdout",
     "output_type": "stream",
     "text": [
      "\n",
      "Data Types:\n",
      "Name       object\n",
      "Address    object\n",
      "Age        object\n",
      "Gender     object\n",
      "State      object\n",
      "dtype: object\n"
     ]
    }
   ],
   "source": [
    "# Check data types\n",
    "data_types = cleaned_data.dtypes\n",
    "print(\"\\nData Types:\")\n",
    "print(data_types)"
   ]
  },
  {
   "cell_type": "code",
   "execution_count": 15,
   "id": "15c5e5e2-8f35-4ec5-a253-3b8c8befcb07",
   "metadata": {},
   "outputs": [],
   "source": [
    "# Convert Age column to numeric\n",
    "cleaned_data['Age'] = pd.to_numeric(cleaned_data['Age'], errors='coerce')"
   ]
  },
  {
   "cell_type": "code",
   "execution_count": 16,
   "id": "1985d594-2699-4ed1-b3f5-f9a6bd6bf5b4",
   "metadata": {},
   "outputs": [],
   "source": [
    "# Create age groups\n",
    "bins = [0, 18, 35, 50, 100]\n",
    "labels = ['0-18', '19-35', '36-50', '51+']\n",
    "cleaned_data['Age_Group'] = pd.cut(cleaned_data['Age'], bins=bins, labels=labels, right=False)"
   ]
  },
  {
   "cell_type": "code",
   "execution_count": 17,
   "id": "53d5abdf-9df2-4dfe-bebf-04867973d411",
   "metadata": {},
   "outputs": [],
   "source": [
    "# Define a function to map states to regions\n",
    "def map_state_to_region(state):\n",
    "    # Regions mapping dictionary\n",
    "    regions = {\n",
    "        'Lagos': 'South West',\n",
    "        'Abuja': 'North Central',\n",
    "        'Kano': 'North West',\n",
    "        'Anambra': 'South East',\n",
    "        'Rivers': 'South South',\n",
    "        'Ogun': 'South West',\n",
    "        'Kaduna': 'North West',\n",
    "        'Enugu': 'South East',\n",
    "        'Delta': 'South South',\n",
    "        'Ondo': 'South West',\n",
    "        'Kogi': 'North Central',\n",
    "        'Plateau': 'North Central',\n",
    "        'Edo': 'South South',\n",
    "        'Oyo': 'South West',\n",
    "        'Adamawa': 'North East',\n",
    "        'Nasarawa': 'North Central',\n",
    "        'Ekiti': 'South West',\n",
    "        'Benue': 'North Central',\n",
    "        'Akwa Ibom': 'South South',\n",
    "        'Kwara': 'North Central',\n",
    "        'Sokoto': 'North West',\n",
    "        'Bauchi': 'North East',\n",
    "        'Ondo': 'South West',\n",
    "        'Kebbi': 'North West',\n",
    "        'Cross River': 'South South',\n",
    "        'Imo': 'South East',\n",
    "        'Jigawa': 'North West',\n",
    "        'Gombe': 'North East',\n",
    "        'Osun': 'South West',\n",
    "        'Niger': 'North Central',\n",
    "        'Zamfara': 'North West',\n",
    "        'Bayelsa': 'South South',\n",
    "        'Ebonyi': 'South East',\n",
    "        'Yobe': 'North East',\n",
    "        'Taraba': 'North East',\n",
    "        'Borno': 'North East',\n",
    "        'Katsina': 'North West',\n",
    "        'FCT': 'North Central',  # Correcting Abuja to North Central\n",
    "        # Add more state-region mappings as needed\n",
    "    }\n",
    "    \n",
    "    # Return the region corresponding to the state\n",
    "    return regions.get(state, 'Other')\n",
    "\n",
    "# Map states to regions\n",
    "cleaned_data['Region'] = cleaned_data['State'].apply(map_state_to_region)"
   ]
  },
  {
   "cell_type": "code",
   "execution_count": 18,
   "id": "157de0ce-9c4b-45e8-91eb-d36f9a54fae2",
   "metadata": {},
   "outputs": [
    {
     "data": {
      "text/html": [
       "<div>\n",
       "<style scoped>\n",
       "    .dataframe tbody tr th:only-of-type {\n",
       "        vertical-align: middle;\n",
       "    }\n",
       "\n",
       "    .dataframe tbody tr th {\n",
       "        vertical-align: top;\n",
       "    }\n",
       "\n",
       "    .dataframe thead th {\n",
       "        text-align: right;\n",
       "    }\n",
       "</style>\n",
       "<table border=\"1\" class=\"dataframe\">\n",
       "  <thead>\n",
       "    <tr style=\"text-align: right;\">\n",
       "      <th></th>\n",
       "      <th>Name</th>\n",
       "      <th>Address</th>\n",
       "      <th>Age</th>\n",
       "      <th>Gender</th>\n",
       "      <th>State</th>\n",
       "      <th>Age_Group</th>\n",
       "      <th>Region</th>\n",
       "    </tr>\n",
       "  </thead>\n",
       "  <tbody>\n",
       "    <tr>\n",
       "      <th>0</th>\n",
       "      <td>Arojoye Samuel</td>\n",
       "      <td>11 Omolade Close Omole Estate Lagos</td>\n",
       "      <td>16</td>\n",
       "      <td>Male</td>\n",
       "      <td>Lagos</td>\n",
       "      <td>0-18</td>\n",
       "      <td>South West</td>\n",
       "    </tr>\n",
       "    <tr>\n",
       "      <th>1</th>\n",
       "      <td>Alex Ezurum</td>\n",
       "      <td>1 Adamu Lane, Abuja</td>\n",
       "      <td>14</td>\n",
       "      <td>Male</td>\n",
       "      <td>FCT</td>\n",
       "      <td>0-18</td>\n",
       "      <td>North Central</td>\n",
       "    </tr>\n",
       "    <tr>\n",
       "      <th>2</th>\n",
       "      <td>Susan Nwaimo</td>\n",
       "      <td>Number 58 Yaba Street, Kaduna State</td>\n",
       "      <td>16</td>\n",
       "      <td>Female</td>\n",
       "      <td>Kaduna</td>\n",
       "      <td>0-18</td>\n",
       "      <td>North West</td>\n",
       "    </tr>\n",
       "    <tr>\n",
       "      <th>3</th>\n",
       "      <td>Ajao Opeyemi</td>\n",
       "      <td>No12 Olubunmi Street, Abeokuta</td>\n",
       "      <td>18</td>\n",
       "      <td>Female</td>\n",
       "      <td>Ogun</td>\n",
       "      <td>19-35</td>\n",
       "      <td>South West</td>\n",
       "    </tr>\n",
       "    <tr>\n",
       "      <th>4</th>\n",
       "      <td>Banjoko Adebusola</td>\n",
       "      <td>34 Ngige Street, Ugheli, Delta</td>\n",
       "      <td>14</td>\n",
       "      <td>Female</td>\n",
       "      <td>Delta</td>\n",
       "      <td>0-18</td>\n",
       "      <td>South South</td>\n",
       "    </tr>\n",
       "    <tr>\n",
       "      <th>5</th>\n",
       "      <td>Muhammed Olabisi</td>\n",
       "      <td>13, ICAN road, Enugu</td>\n",
       "      <td>12</td>\n",
       "      <td>Female</td>\n",
       "      <td>Enugu</td>\n",
       "      <td>0-18</td>\n",
       "      <td>South East</td>\n",
       "    </tr>\n",
       "    <tr>\n",
       "      <th>6</th>\n",
       "      <td>Oluwagbemi Mojisola</td>\n",
       "      <td>ACCA Lane, Onitsha</td>\n",
       "      <td>13</td>\n",
       "      <td>Female</td>\n",
       "      <td>Anambra</td>\n",
       "      <td>0-18</td>\n",
       "      <td>South East</td>\n",
       "    </tr>\n",
       "  </tbody>\n",
       "</table>\n",
       "</div>"
      ],
      "text/plain": [
       "                  Name                              Address  Age  Gender  \\\n",
       "0       Arojoye Samuel  11 Omolade Close Omole Estate Lagos   16    Male   \n",
       "1          Alex Ezurum                  1 Adamu Lane, Abuja   14    Male   \n",
       "2         Susan Nwaimo  Number 58 Yaba Street, Kaduna State   16  Female   \n",
       "3         Ajao Opeyemi       No12 Olubunmi Street, Abeokuta   18  Female   \n",
       "4    Banjoko Adebusola       34 Ngige Street, Ugheli, Delta   14  Female   \n",
       "5     Muhammed Olabisi                 13, ICAN road, Enugu   12  Female   \n",
       "6  Oluwagbemi Mojisola                   ACCA Lane, Onitsha   13  Female   \n",
       "\n",
       "     State Age_Group         Region  \n",
       "0    Lagos      0-18     South West  \n",
       "1      FCT      0-18  North Central  \n",
       "2   Kaduna      0-18     North West  \n",
       "3     Ogun     19-35     South West  \n",
       "4    Delta      0-18    South South  \n",
       "5    Enugu      0-18     South East  \n",
       "6  Anambra      0-18     South East  "
      ]
     },
     "execution_count": 18,
     "metadata": {},
     "output_type": "execute_result"
    }
   ],
   "source": [
    "cleaned_data"
   ]
  },
  {
   "cell_type": "code",
   "execution_count": 19,
   "id": "ec8283f2-e25d-4fd4-bd08-05118043185c",
   "metadata": {},
   "outputs": [
    {
     "name": "stderr",
     "output_type": "stream",
     "text": [
      "C:\\Users\\Henry Morgan\\AppData\\Local\\Temp\\ipykernel_5456\\4261664060.py:7: SettingWithCopyWarning: \n",
      "A value is trying to be set on a copy of a slice from a DataFrame.\n",
      "Try using .loc[row_indexer,col_indexer] = value instead\n",
      "\n",
      "See the caveats in the documentation: https://pandas.pydata.org/pandas-docs/stable/user_guide/indexing.html#returning-a-view-versus-a-copy\n",
      "  X['Gender'] = X['Gender'].map({'Male': 0, 'Female': 1})\n",
      "C:\\Users\\Henry Morgan\\anaconda3\\Lib\\site-packages\\sklearn\\cluster\\_kmeans.py:1446: UserWarning: KMeans is known to have a memory leak on Windows with MKL, when there are less chunks than available threads. You can avoid it by setting the environment variable OMP_NUM_THREADS=1.\n",
      "  warnings.warn(\n"
     ]
    },
    {
     "data": {
      "image/png": "[encoded data removed]",
      "text/plain": [
       "<Figure size 640x480 with 1 Axes>"
      ]
     },
     "metadata": {},
     "output_type": "display_data"
    }
   ],
   "source": [
    "from sklearn.cluster import KMeans\n",
    "\n",
    "# Prepare data for clustering\n",
    "X = cleaned_data[['Age', 'Gender']]\n",
    "\n",
    "# Convert categorical variables to numerical\n",
    "X['Gender'] = X['Gender'].map({'Male': 0, 'Female': 1})\n",
    "\n",
    "# Standardize the features\n",
    "from sklearn.preprocessing import StandardScaler\n",
    "scaler = StandardScaler()\n",
    "X_scaled = scaler.fit_transform(X)\n",
    "\n",
    "# Perform KMeans clustering\n",
    "kmeans = KMeans(n_clusters=3, random_state=42)\n",
    "cleaned_data['Cluster'] = kmeans.fit_predict(X_scaled)\n",
    "\n",
    "# Visualize clusters\n",
    "sns.scatterplot(data=cleaned_data, x='Age', y='Gender', hue='Cluster', palette='viridis')\n",
    "plt.title('Customer Segmentation')\n",
    "plt.xlabel('Age')\n",
    "plt.ylabel('Gender')\n",
    "plt.show()"
   ]
  },
  {
   "cell_type": "code",
   "execution_count": 20,
   "id": "a044ae5e-c900-47b6-94b6-b929fcaf48b4",
   "metadata": {},
   "outputs": [
    {
     "name": "stdout",
     "output_type": "stream",
     "text": [
      "Cluster Counts:\n",
      "Cluster\n",
      "1    3\n",
      "2    2\n",
      "0    2\n",
      "Name: count, dtype: int64\n",
      "\n",
      "Cluster Proportions:\n",
      "Cluster\n",
      "1    0.428571\n",
      "2    0.285714\n",
      "0    0.285714\n",
      "Name: count, dtype: float64\n"
     ]
    }
   ],
   "source": [
    "# Count the number of customers in each cluster\n",
    "cluster_counts = cleaned_data['Cluster'].value_counts()\n",
    "\n",
    "# Display the cluster counts\n",
    "print(\"Cluster Counts:\")\n",
    "print(cluster_counts)\n",
    "\n",
    "# Calculate the proportion of customers in each cluster\n",
    "cluster_proportions = cluster_counts / cleaned_data.shape[0]\n",
    "\n",
    "# Display the cluster proportions\n",
    "print(\"\\nCluster Proportions:\")\n",
    "print(cluster_proportions)"
   ]
  },
  {
   "cell_type": "code",
   "execution_count": 21,
   "id": "ea608f45-0018-4046-819f-44358eee93d8",
   "metadata": {},
   "outputs": [
    {
     "name": "stdout",
     "output_type": "stream",
     "text": [
      "Cluster Characteristics:\n",
      "          Age           Gender    State      Region\n",
      "         mean min max <lambda> <lambda>    <lambda>\n",
      "Cluster                                            \n",
      "0        17.0  16  18   Female   Kaduna  North West\n",
      "1        13.0  12  14   Female    Delta  South East\n",
      "2        15.0  14  16     Male    Lagos  South West\n",
      "\n",
      "Feature Distribution within Clusters:\n",
      "Cluster  Region       \n",
      "0        North West       0.500000\n",
      "         South West       0.500000\n",
      "1        South East       0.666667\n",
      "         South South      0.333333\n",
      "2        South West       0.500000\n",
      "         North Central    0.500000\n",
      "Name: proportion, dtype: float64\n"
     ]
    },
    {
     "name": "stderr",
     "output_type": "stream",
     "text": [
      "C:\\Users\\Henry Morgan\\AppData\\Local\\Temp\\ipykernel_5456\\1291728827.py:14: DeprecationWarning: DataFrameGroupBy.apply operated on the grouping columns. This behavior is deprecated, and in a future version of pandas the grouping columns will be excluded from the operation. Either pass `include_groups=False` to exclude the groupings or explicitly select the grouping columns after groupby to silence this warning.\n",
      "  feature_distribution = cleaned_data.groupby('Cluster').apply(lambda x: x['Region'].value_counts(normalize=True))\n"
     ]
    }
   ],
   "source": [
    "# Analyze cluster characteristics\n",
    "cluster_characteristics = cleaned_data.groupby('Cluster').agg({\n",
    "    'Age': ['mean', 'min', 'max'],\n",
    "    'Gender': lambda x: x.value_counts().index[0],\n",
    "    'State': lambda x: x.value_counts().index[0],\n",
    "    'Region': lambda x: x.value_counts().index[0]\n",
    "})\n",
    "\n",
    "# Display cluster characteristics\n",
    "print(\"Cluster Characteristics:\")\n",
    "print(cluster_characteristics)\n",
    "\n",
    "# Analyze feature distribution within each cluster\n",
    "feature_distribution = cleaned_data.groupby('Cluster').apply(lambda x: x['Region'].value_counts(normalize=True))\n",
    "print(\"\\nFeature Distribution within Clusters:\")\n",
    "print(feature_distribution)"
   ]
  },
  {
   "cell_type": "code",
   "execution_count": 22,
   "id": "1aa407d1-98fd-4bac-a257-6b25a0f892d4",
   "metadata": {},
   "outputs": [],
   "source": [
    "# Save the cleaned data to a new Excel file\n",
    "cleaned_data.to_excel('Cleaned_Customer_Details.xlsx', index=False)"
   ]
  },
  {
   "cell_type": "code",
   "execution_count": null,
   "id": "458718fc-eb36-4ead-96f6-903d783aa818",
   "metadata": {},
   "outputs": [],
   "source": []
  }
 ],
 "metadata": {
  "kernelspec": {
   "display_name": "Python 3 (ipykernel)",
   "language": "python",
   "name": "python3"
  },
  "language_info": {
   "codemirror_mode": {
    "name": "ipython",
    "version": 3
   },
   "file_extension": ".py",
   "mimetype": "text/x-python",
   "name": "python",
   "nbconvert_exporter": "python",
   "pygments_lexer": "ipython3",
   "version": "3.11.5"
  }
 },
 "nbformat": 4,
 "nbformat_minor": 5
}
